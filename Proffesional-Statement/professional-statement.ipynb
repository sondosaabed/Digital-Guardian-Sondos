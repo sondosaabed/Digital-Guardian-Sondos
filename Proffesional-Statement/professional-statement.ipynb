{
 "cells": [
  {
   "cell_type": "markdown",
   "metadata": {},
   "source": [
    "## Sondos Professional statement outline \n",
    "Two of my strengths that I have a remarkable ability to learn new technologies and upskill, I also have strong written and verbal communication. As for my values, I strongly believe in protecting user’s privacy and data. My main mantra is “People before profit”. My interest in cybersecurity stems from research that I have done on the use of social media, where public data were misused in elections. I want to be able to protect others, and companies, and be aware of such issues. I believe that my values, strengths, and interest in cybersecurity have made me fit with the security goals of various organizations. "
   ]
  },
  {
   "cell_type": "markdown",
   "metadata": {},
   "source": [
    "## Professional statement exemplar\n",
    "\n",
    "\n",
    "### Fictional persona: \n",
    "\n",
    "Following is a fictional persona that may represent someone interested in becoming a cybersecurity analyst.\n",
    "\n",
    "Melodie is a high school graduate and her strongest subjects in school were math and science. She enjoys learning and excelled in school. She likes creating spreadsheets to organize everyday tasks. She also likes analyzing complex tasks. Melodie has a passion for technology and enjoys helping others. She is interested in the field of security but has no previous experience. She wants an entry-level cybersecurity position that will utilize her drive and thirst for knowledge. She believes the Google Cybersecurity Certificate will make her a better candidate and will help her develop the professional skills she lacks.\n",
    "\n",
    "### Fictional persona’s draft professional statement:\n",
    "\n",
    "My name is Melodie. I am driven and passionate about safeguarding people’s security, including their financial well being. I enjoy working with technology and analyzing and solving complex problems. \n",
    "\n"
   ]
  },
  {
   "cell_type": "markdown",
   "metadata": {},
   "source": [
    "## Refine your professional statement\n",
    "\n",
    "Here are some suggestions you are encouraged to consider to help you continuously refine and strengthen your professional statement throughout the program: \n",
    "\n",
    "1.\tLocate examples of current cybersecurity professionals’ statements. Search for examples on GitHub or professional networking websites or apps. Compare your statement with statements you found online and determine ways you could improve your own statement.  \n",
    "2.\tUse a word processing spelling/grammar check or an online tool of your choice to make sure that your statement is free of errors.\n",
    "3.\tShare your professional statement with trusted friends or colleagues and ask for their feedback. A second opinion is helpful to ensure that you are effectively conveying your ideas.\n",
    "4.\tResearch job postings and consider including key terms from the postings in your professional statement. \n"
   ]
  }
 ],
 "metadata": {
  "language_info": {
   "name": "python"
  }
 },
 "nbformat": 4,
 "nbformat_minor": 2
}
